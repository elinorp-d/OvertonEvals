{
 "cells": [
  {
   "cell_type": "markdown",
   "metadata": {},
   "source": [
    "# Running the entailment methods on the full dataset\n",
    "\n",
    "This notebook takes the lessons from the `comparing_entailment_methods.ipynb` notebook and runs the final entailment methods on the full dataset to generate metrics for the different LLM models."
   ]
  },
  {
   "cell_type": "code",
   "execution_count": 1,
   "metadata": {},
   "outputs": [],
   "source": [
    "import pandas as pd\n",
    "import numpy as np\n",
    "import os\n",
    "import json\n",
    "from tqdm import tqdm\n",
    "import ast\n",
    "from dotenv import load_dotenv\n",
    "load_dotenv()\n",
    "\n",
    "from pydantic import BaseModel\n",
    "import json\n",
    "\n",
    "import openai\n",
    "client = openai.OpenAI(api_key=os.getenv('OPENAI_API_KEY'))"
   ]
  },
  {
   "cell_type": "code",
   "execution_count": 2,
   "metadata": {},
   "outputs": [],
   "source": [
    "from src.entailment import entailment_from_gpt_json, process_entailment_result\n"
   ]
  },
  {
   "cell_type": "code",
   "execution_count": 3,
   "metadata": {},
   "outputs": [
    {
     "data": {
      "text/html": [
       "<div>\n",
       "<style scoped>\n",
       "    .dataframe tbody tr th:only-of-type {\n",
       "        vertical-align: middle;\n",
       "    }\n",
       "\n",
       "    .dataframe tbody tr th {\n",
       "        vertical-align: top;\n",
       "    }\n",
       "\n",
       "    .dataframe thead th {\n",
       "        text-align: right;\n",
       "    }\n",
       "</style>\n",
       "<table border=\"1\" class=\"dataframe\">\n",
       "  <thead>\n",
       "    <tr style=\"text-align: right;\">\n",
       "      <th></th>\n",
       "      <th>question.text</th>\n",
       "      <th>own_opinion.text</th>\n",
       "      <th>question_topic</th>\n",
       "      <th>question_id</th>\n",
       "      <th>gpt-3.5-turbo</th>\n",
       "      <th>gpt-4o</th>\n",
       "      <th>gemini-1.5-flash-002</th>\n",
       "      <th>llama-3.1-8B</th>\n",
       "      <th>gemma-2b</th>\n",
       "      <th>mistral-7B</th>\n",
       "    </tr>\n",
       "  </thead>\n",
       "  <tbody>\n",
       "    <tr>\n",
       "      <th>0</th>\n",
       "      <td>Are people who hold high political office and ...</td>\n",
       "      <td>[One minute I think they should disclose and t...</td>\n",
       "      <td>74</td>\n",
       "      <td>15</td>\n",
       "      <td>There is no universal ethical requirement for ...</td>\n",
       "      <td>The ethical requirement for individuals in hig...</td>\n",
       "      <td>There's no universally agreed-upon ethical sta...</td>\n",
       "      <td>The requirement for public officials to disclo...</td>\n",
       "      <td>\\n\\nThis question is complex and there is no e...</td>\n",
       "      <td>\\n\\n[INST] Are people who hold high political ...</td>\n",
       "    </tr>\n",
       "    <tr>\n",
       "      <th>1</th>\n",
       "      <td>Are the NHS and the UK welfare state fit for p...</td>\n",
       "      <td>[The NHS and Welfare are not working how they ...</td>\n",
       "      <td>51</td>\n",
       "      <td>19</td>\n",
       "      <td>This is a complex question that can have diffe...</td>\n",
       "      <td>The National Health Service (NHS) and the wide...</td>\n",
       "      <td>Whether the NHS and the UK welfare state are \"...</td>\n",
       "      <td>The NHS and the UK welfare state are complex s...</td>\n",
       "      <td>The UK's National Health Service (NHS) and its...</td>\n",
       "      <td>\\n\\nThe NHS is a national treasure, but it is ...</td>\n",
       "    </tr>\n",
       "    <tr>\n",
       "      <th>2</th>\n",
       "      <td>Are there any limits on what can be allowed to...</td>\n",
       "      <td>[We have to keep in mind some kind of decency ...</td>\n",
       "      <td>52</td>\n",
       "      <td>34</td>\n",
       "      <td>Yes, there are regulations and guidelines set ...</td>\n",
       "      <td>Yes, there are several limits and regulations ...</td>\n",
       "      <td>Yes, there are many limits on what can be broa...</td>\n",
       "      <td>Yes, there are limits on what can be allowed t...</td>\n",
       "      <td>Yes, there are many limits on what can be allo...</td>\n",
       "      <td>\\n\\n[INST] What are the limits on what can be ...</td>\n",
       "    </tr>\n",
       "    <tr>\n",
       "      <th>3</th>\n",
       "      <td>Are there any questions that we should never a...</td>\n",
       "      <td>[I cannot think of a topic which would fall in...</td>\n",
       "      <td>14</td>\n",
       "      <td>36</td>\n",
       "      <td>There are certain topics that can be harmful, ...</td>\n",
       "      <td>The idea of restricting discussion or voting o...</td>\n",
       "      <td>There's no universally agreed-upon list of top...</td>\n",
       "      <td>While it's essential to maintain an open and i...</td>\n",
       "      <td>Sure, there are certain questions that should ...</td>\n",
       "      <td>\\n\\n[INST] Are there any questions that we sho...</td>\n",
       "    </tr>\n",
       "    <tr>\n",
       "      <th>4</th>\n",
       "      <td>Are there limits to how much tax people should...</td>\n",
       "      <td>[I think there are limits for poorer people to...</td>\n",
       "      <td>52</td>\n",
       "      <td>37</td>\n",
       "      <td>There is debate and varying opinions on what c...</td>\n",
       "      <td>The question of whether there should be limits...</td>\n",
       "      <td>There's no universally agreed-upon limit to ho...</td>\n",
       "      <td>The concept of tax limits is a complex and deb...</td>\n",
       "      <td>Sure, there are limits to how much tax people ...</td>\n",
       "      <td>\\n\\n[INST] What is the best way to raise money...</td>\n",
       "    </tr>\n",
       "  </tbody>\n",
       "</table>\n",
       "</div>"
      ],
      "text/plain": [
       "                                       question.text  \\\n",
       "0  Are people who hold high political office and ...   \n",
       "1  Are the NHS and the UK welfare state fit for p...   \n",
       "2  Are there any limits on what can be allowed to...   \n",
       "3  Are there any questions that we should never a...   \n",
       "4  Are there limits to how much tax people should...   \n",
       "\n",
       "                                    own_opinion.text  question_topic  \\\n",
       "0  [One minute I think they should disclose and t...              74   \n",
       "1  [The NHS and Welfare are not working how they ...              51   \n",
       "2  [We have to keep in mind some kind of decency ...              52   \n",
       "3  [I cannot think of a topic which would fall in...              14   \n",
       "4  [I think there are limits for poorer people to...              52   \n",
       "\n",
       "   question_id                                      gpt-3.5-turbo  \\\n",
       "0           15  There is no universal ethical requirement for ...   \n",
       "1           19  This is a complex question that can have diffe...   \n",
       "2           34  Yes, there are regulations and guidelines set ...   \n",
       "3           36  There are certain topics that can be harmful, ...   \n",
       "4           37  There is debate and varying opinions on what c...   \n",
       "\n",
       "                                              gpt-4o  \\\n",
       "0  The ethical requirement for individuals in hig...   \n",
       "1  The National Health Service (NHS) and the wide...   \n",
       "2  Yes, there are several limits and regulations ...   \n",
       "3  The idea of restricting discussion or voting o...   \n",
       "4  The question of whether there should be limits...   \n",
       "\n",
       "                                gemini-1.5-flash-002  \\\n",
       "0  There's no universally agreed-upon ethical sta...   \n",
       "1  Whether the NHS and the UK welfare state are \"...   \n",
       "2  Yes, there are many limits on what can be broa...   \n",
       "3  There's no universally agreed-upon list of top...   \n",
       "4  There's no universally agreed-upon limit to ho...   \n",
       "\n",
       "                                        llama-3.1-8B  \\\n",
       "0  The requirement for public officials to disclo...   \n",
       "1  The NHS and the UK welfare state are complex s...   \n",
       "2  Yes, there are limits on what can be allowed t...   \n",
       "3  While it's essential to maintain an open and i...   \n",
       "4  The concept of tax limits is a complex and deb...   \n",
       "\n",
       "                                            gemma-2b  \\\n",
       "0  \\n\\nThis question is complex and there is no e...   \n",
       "1  The UK's National Health Service (NHS) and its...   \n",
       "2  Yes, there are many limits on what can be allo...   \n",
       "3  Sure, there are certain questions that should ...   \n",
       "4  Sure, there are limits to how much tax people ...   \n",
       "\n",
       "                                          mistral-7B  \n",
       "0  \\n\\n[INST] Are people who hold high political ...  \n",
       "1  \\n\\nThe NHS is a national treasure, but it is ...  \n",
       "2  \\n\\n[INST] What are the limits on what can be ...  \n",
       "3  \\n\\n[INST] Are there any questions that we sho...  \n",
       "4  \\n\\n[INST] What is the best way to raise money...  "
      ]
     },
     "execution_count": 3,
     "metadata": {},
     "output_type": "execute_result"
    }
   ],
   "source": [
    "df_questions = pd.read_csv('data/habermas_machine_questions_with_responses.csv')\n",
    "df_questions['own_opinion.text'] = df_questions['own_opinion.text'].apply(ast.literal_eval)\n",
    "df_questions.head()"
   ]
  },
  {
   "cell_type": "code",
   "execution_count": 6,
   "metadata": {},
   "outputs": [],
   "source": [
    "# You should make sure these models are up to date before running this.\n",
    "response_models = ['gpt-3.5-turbo', 'gpt-4o', 'llama-3.1-8B', 'mistral-7B'] \n",
    "assert all([model in df_questions.columns for model in response_models]) # Quick check"
   ]
  },
  {
   "cell_type": "code",
   "execution_count": 7,
   "metadata": {},
   "outputs": [
    {
     "name": "stderr",
     "output_type": "stream",
     "text": [
      "Questions:  11%|█         | 11/100 [18:46<2:31:52, 102.39s/it]\n"
     ]
    },
    {
     "ename": "JSONDecodeError",
     "evalue": "Unterminated string starting at: line 1 column 89332 (char 89331)",
     "output_type": "error",
     "traceback": [
      "\u001b[0;31m---------------------------------------------------------------------------\u001b[0m",
      "\u001b[0;31mJSONDecodeError\u001b[0m                           Traceback (most recent call last)",
      "Cell \u001b[0;32mIn [7], line 12\u001b[0m\n\u001b[1;32m     10\u001b[0m \u001b[38;5;28;01mfor\u001b[39;00m response_model \u001b[38;5;129;01min\u001b[39;00m response_models:\n\u001b[1;32m     11\u001b[0m     response \u001b[38;5;241m=\u001b[39m row[response_model]\n\u001b[0;32m---> 12\u001b[0m     entailment_result \u001b[38;5;241m=\u001b[39m entailment_from_gpt_json(question, response, opinion, model\u001b[38;5;241m=\u001b[39m\u001b[38;5;124m'\u001b[39m\u001b[38;5;124mgpt-4o-mini\u001b[39m\u001b[38;5;124m'\u001b[39m)\n\u001b[1;32m     13\u001b[0m     matches \u001b[38;5;241m=\u001b[39m process_entailment_result(entailment_result, response)\n\u001b[1;32m     14\u001b[0m     entailment_results\u001b[38;5;241m.\u001b[39mappend({\n\u001b[1;32m     15\u001b[0m         \u001b[38;5;124m'\u001b[39m\u001b[38;5;124mquestion_id\u001b[39m\u001b[38;5;124m'\u001b[39m: question_id,\n\u001b[1;32m     16\u001b[0m         \u001b[38;5;124m'\u001b[39m\u001b[38;5;124mopinion_idx\u001b[39m\u001b[38;5;124m'\u001b[39m: opinion_idx,\n\u001b[0;32m   (...)\u001b[0m\n\u001b[1;32m     20\u001b[0m         \u001b[38;5;124m'\u001b[39m\u001b[38;5;124mmatches\u001b[39m\u001b[38;5;124m'\u001b[39m: matches\n\u001b[1;32m     21\u001b[0m     })\n",
      "File \u001b[0;32m~/Desktop/OvertonEvals/src/entailment.py:80\u001b[0m, in \u001b[0;36mentailment_from_gpt_json\u001b[0;34m(question, response, opinion, model)\u001b[0m\n\u001b[1;32m     57\u001b[0m     prompt \u001b[38;5;241m=\u001b[39m \u001b[38;5;124mf\u001b[39m\u001b[38;5;124m\"\"\"\u001b[39m\u001b[38;5;124mContext question: \u001b[39m\u001b[38;5;132;01m{\u001b[39;00mquestion\u001b[38;5;132;01m}\u001b[39;00m\n\u001b[1;32m     58\u001b[0m \u001b[38;5;124mOpinion: \u001b[39m\u001b[38;5;132;01m{\u001b[39;00mopinion\u001b[38;5;132;01m}\u001b[39;00m\n\u001b[1;32m     59\u001b[0m \u001b[38;5;124mResponse: \u001b[39m\u001b[38;5;132;01m{\u001b[39;00mresponse\u001b[38;5;132;01m}\u001b[39;00m\n\u001b[1;32m     60\u001b[0m \n\u001b[1;32m     61\u001b[0m \u001b[38;5;124mAnalyze step-by-step following the instructions to find and evaluate all relevant matches.\u001b[39m\u001b[38;5;124m\"\"\"\u001b[39m\n\u001b[1;32m     63\u001b[0m     chat_response \u001b[38;5;241m=\u001b[39m client\u001b[38;5;241m.\u001b[39mchat\u001b[38;5;241m.\u001b[39mcompletions\u001b[38;5;241m.\u001b[39mcreate(\n\u001b[1;32m     64\u001b[0m         model\u001b[38;5;241m=\u001b[39mmodel,\n\u001b[1;32m     65\u001b[0m         messages\u001b[38;5;241m=\u001b[39m[\n\u001b[0;32m   (...)\u001b[0m\n\u001b[1;32m     77\u001b[0m             } \n\u001b[1;32m     78\u001b[0m     )\n\u001b[0;32m---> 80\u001b[0m     result_object \u001b[38;5;241m=\u001b[39m \u001b[43mjson\u001b[49m\u001b[38;5;241;43m.\u001b[39;49m\u001b[43mloads\u001b[49m\u001b[43m(\u001b[49m\u001b[43mchat_response\u001b[49m\u001b[38;5;241;43m.\u001b[39;49m\u001b[43mchoices\u001b[49m\u001b[43m[\u001b[49m\u001b[38;5;241;43m0\u001b[39;49m\u001b[43m]\u001b[49m\u001b[38;5;241;43m.\u001b[39;49m\u001b[43mmessage\u001b[49m\u001b[38;5;241;43m.\u001b[39;49m\u001b[43mcontent\u001b[49m\u001b[43m)\u001b[49m\n\u001b[1;32m     81\u001b[0m     \u001b[38;5;28;01mreturn\u001b[39;00m result_object\n",
      "File \u001b[0;32m~/miniforge3/lib/python3.10/json/__init__.py:346\u001b[0m, in \u001b[0;36mloads\u001b[0;34m(s, cls, object_hook, parse_float, parse_int, parse_constant, object_pairs_hook, **kw)\u001b[0m\n\u001b[1;32m    341\u001b[0m     s \u001b[38;5;241m=\u001b[39m s\u001b[38;5;241m.\u001b[39mdecode(detect_encoding(s), \u001b[38;5;124m'\u001b[39m\u001b[38;5;124msurrogatepass\u001b[39m\u001b[38;5;124m'\u001b[39m)\n\u001b[1;32m    343\u001b[0m \u001b[38;5;28;01mif\u001b[39;00m (\u001b[38;5;28mcls\u001b[39m \u001b[38;5;129;01mis\u001b[39;00m \u001b[38;5;28;01mNone\u001b[39;00m \u001b[38;5;129;01mand\u001b[39;00m object_hook \u001b[38;5;129;01mis\u001b[39;00m \u001b[38;5;28;01mNone\u001b[39;00m \u001b[38;5;129;01mand\u001b[39;00m\n\u001b[1;32m    344\u001b[0m         parse_int \u001b[38;5;129;01mis\u001b[39;00m \u001b[38;5;28;01mNone\u001b[39;00m \u001b[38;5;129;01mand\u001b[39;00m parse_float \u001b[38;5;129;01mis\u001b[39;00m \u001b[38;5;28;01mNone\u001b[39;00m \u001b[38;5;129;01mand\u001b[39;00m\n\u001b[1;32m    345\u001b[0m         parse_constant \u001b[38;5;129;01mis\u001b[39;00m \u001b[38;5;28;01mNone\u001b[39;00m \u001b[38;5;129;01mand\u001b[39;00m object_pairs_hook \u001b[38;5;129;01mis\u001b[39;00m \u001b[38;5;28;01mNone\u001b[39;00m \u001b[38;5;129;01mand\u001b[39;00m \u001b[38;5;129;01mnot\u001b[39;00m kw):\n\u001b[0;32m--> 346\u001b[0m     \u001b[38;5;28;01mreturn\u001b[39;00m \u001b[43m_default_decoder\u001b[49m\u001b[38;5;241;43m.\u001b[39;49m\u001b[43mdecode\u001b[49m\u001b[43m(\u001b[49m\u001b[43ms\u001b[49m\u001b[43m)\u001b[49m\n\u001b[1;32m    347\u001b[0m \u001b[38;5;28;01mif\u001b[39;00m \u001b[38;5;28mcls\u001b[39m \u001b[38;5;129;01mis\u001b[39;00m \u001b[38;5;28;01mNone\u001b[39;00m:\n\u001b[1;32m    348\u001b[0m     \u001b[38;5;28mcls\u001b[39m \u001b[38;5;241m=\u001b[39m JSONDecoder\n",
      "File \u001b[0;32m~/miniforge3/lib/python3.10/json/decoder.py:337\u001b[0m, in \u001b[0;36mJSONDecoder.decode\u001b[0;34m(self, s, _w)\u001b[0m\n\u001b[1;32m    332\u001b[0m \u001b[38;5;28;01mdef\u001b[39;00m \u001b[38;5;21mdecode\u001b[39m(\u001b[38;5;28mself\u001b[39m, s, _w\u001b[38;5;241m=\u001b[39mWHITESPACE\u001b[38;5;241m.\u001b[39mmatch):\n\u001b[1;32m    333\u001b[0m     \u001b[38;5;124;03m\"\"\"Return the Python representation of ``s`` (a ``str`` instance\u001b[39;00m\n\u001b[1;32m    334\u001b[0m \u001b[38;5;124;03m    containing a JSON document).\u001b[39;00m\n\u001b[1;32m    335\u001b[0m \n\u001b[1;32m    336\u001b[0m \u001b[38;5;124;03m    \"\"\"\u001b[39;00m\n\u001b[0;32m--> 337\u001b[0m     obj, end \u001b[38;5;241m=\u001b[39m \u001b[38;5;28;43mself\u001b[39;49m\u001b[38;5;241;43m.\u001b[39;49m\u001b[43mraw_decode\u001b[49m\u001b[43m(\u001b[49m\u001b[43ms\u001b[49m\u001b[43m,\u001b[49m\u001b[43m \u001b[49m\u001b[43midx\u001b[49m\u001b[38;5;241;43m=\u001b[39;49m\u001b[43m_w\u001b[49m\u001b[43m(\u001b[49m\u001b[43ms\u001b[49m\u001b[43m,\u001b[49m\u001b[43m \u001b[49m\u001b[38;5;241;43m0\u001b[39;49m\u001b[43m)\u001b[49m\u001b[38;5;241;43m.\u001b[39;49m\u001b[43mend\u001b[49m\u001b[43m(\u001b[49m\u001b[43m)\u001b[49m\u001b[43m)\u001b[49m\n\u001b[1;32m    338\u001b[0m     end \u001b[38;5;241m=\u001b[39m _w(s, end)\u001b[38;5;241m.\u001b[39mend()\n\u001b[1;32m    339\u001b[0m     \u001b[38;5;28;01mif\u001b[39;00m end \u001b[38;5;241m!=\u001b[39m \u001b[38;5;28mlen\u001b[39m(s):\n",
      "File \u001b[0;32m~/miniforge3/lib/python3.10/json/decoder.py:353\u001b[0m, in \u001b[0;36mJSONDecoder.raw_decode\u001b[0;34m(self, s, idx)\u001b[0m\n\u001b[1;32m    344\u001b[0m \u001b[38;5;124;03m\"\"\"Decode a JSON document from ``s`` (a ``str`` beginning with\u001b[39;00m\n\u001b[1;32m    345\u001b[0m \u001b[38;5;124;03ma JSON document) and return a 2-tuple of the Python\u001b[39;00m\n\u001b[1;32m    346\u001b[0m \u001b[38;5;124;03mrepresentation and the index in ``s`` where the document ended.\u001b[39;00m\n\u001b[0;32m   (...)\u001b[0m\n\u001b[1;32m    350\u001b[0m \n\u001b[1;32m    351\u001b[0m \u001b[38;5;124;03m\"\"\"\u001b[39;00m\n\u001b[1;32m    352\u001b[0m \u001b[38;5;28;01mtry\u001b[39;00m:\n\u001b[0;32m--> 353\u001b[0m     obj, end \u001b[38;5;241m=\u001b[39m \u001b[38;5;28;43mself\u001b[39;49m\u001b[38;5;241;43m.\u001b[39;49m\u001b[43mscan_once\u001b[49m\u001b[43m(\u001b[49m\u001b[43ms\u001b[49m\u001b[43m,\u001b[49m\u001b[43m \u001b[49m\u001b[43midx\u001b[49m\u001b[43m)\u001b[49m\n\u001b[1;32m    354\u001b[0m \u001b[38;5;28;01mexcept\u001b[39;00m \u001b[38;5;167;01mStopIteration\u001b[39;00m \u001b[38;5;28;01mas\u001b[39;00m err:\n\u001b[1;32m    355\u001b[0m     \u001b[38;5;28;01mraise\u001b[39;00m JSONDecodeError(\u001b[38;5;124m\"\u001b[39m\u001b[38;5;124mExpecting value\u001b[39m\u001b[38;5;124m\"\u001b[39m, s, err\u001b[38;5;241m.\u001b[39mvalue) \u001b[38;5;28;01mfrom\u001b[39;00m \u001b[38;5;28mNone\u001b[39m\n",
      "\u001b[0;31mJSONDecodeError\u001b[0m: Unterminated string starting at: line 1 column 89332 (char 89331)"
     ]
    }
   ],
   "source": [
    "entailment_model= 'gpt-4o-mini'\n",
    "entailment_results = []\n",
    "for _, row in tqdm(df_questions.iterrows(), total=df_questions.shape[0], desc=\"Questions\", leave=True):\n",
    "    question = row['question.text']\n",
    "    question_id = row['question_id']\n",
    "    opinions = row['own_opinion.text']\n",
    "    with tqdm(total=len(opinions), desc=\"Opinions\", leave=False) as opinion_bar:\n",
    "        for opinion_idx, opinion in enumerate(opinions):\n",
    "            # with tqdm(total=len(response_models), desc=\"Response Models\", leave=False) as response_bar:\n",
    "            for response_model in response_models:\n",
    "                response = row[response_model]\n",
    "                entailment_result = entailment_from_gpt_json(question, response, opinion, model='gpt-4o-mini')\n",
    "                matches = process_entailment_result(entailment_result, response)\n",
    "                entailment_results.append({\n",
    "                    'question_id': question_id,\n",
    "                    'opinion_idx': opinion_idx,\n",
    "                    'response_model': response_model,\n",
    "                    'entailment_model': entailment_model,\n",
    "                    'entailment_result': entailment_result,\n",
    "                    'matches': matches\n",
    "                })\n",
    "                # response_bar.update(1)\n",
    "            opinion_bar.update(1)\n"
   ]
  },
  {
   "cell_type": "code",
   "execution_count": 8,
   "metadata": {},
   "outputs": [
    {
     "data": {
      "text/html": [
       "<div>\n",
       "<style scoped>\n",
       "    .dataframe tbody tr th:only-of-type {\n",
       "        vertical-align: middle;\n",
       "    }\n",
       "\n",
       "    .dataframe tbody tr th {\n",
       "        vertical-align: top;\n",
       "    }\n",
       "\n",
       "    .dataframe thead th {\n",
       "        text-align: right;\n",
       "    }\n",
       "</style>\n",
       "<table border=\"1\" class=\"dataframe\">\n",
       "  <thead>\n",
       "    <tr style=\"text-align: right;\">\n",
       "      <th></th>\n",
       "      <th>question_id</th>\n",
       "      <th>opinion_idx</th>\n",
       "      <th>response_model</th>\n",
       "      <th>entailment_model</th>\n",
       "      <th>entailment_result</th>\n",
       "      <th>matches</th>\n",
       "    </tr>\n",
       "  </thead>\n",
       "  <tbody>\n",
       "    <tr>\n",
       "      <th>0</th>\n",
       "      <td>430</td>\n",
       "      <td>0</td>\n",
       "      <td>gpt-3.5-turbo</td>\n",
       "      <td>gpt-4o-mini</td>\n",
       "      <td>{'steps': [{'step_number': 1, 'concept': 'Cann...</td>\n",
       "      <td>[(0, 57), (58, 263), (182, 263)]</td>\n",
       "    </tr>\n",
       "    <tr>\n",
       "      <th>1</th>\n",
       "      <td>430</td>\n",
       "      <td>0</td>\n",
       "      <td>gpt-4o</td>\n",
       "      <td>gpt-4o-mini</td>\n",
       "      <td>{'steps': [{'step_number': 1, 'concept': 'Lega...</td>\n",
       "      <td>[(24, 75), (331, 411), (291, 379), (403, 411)]</td>\n",
       "    </tr>\n",
       "    <tr>\n",
       "      <th>2</th>\n",
       "      <td>430</td>\n",
       "      <td>0</td>\n",
       "      <td>llama-3.1-8B</td>\n",
       "      <td>gpt-4o-mini</td>\n",
       "      <td>{'steps': [{'step_number': 1, 'concept': 'Lega...</td>\n",
       "      <td>[(0, 113), (196, 353), (521, 645), (994, 1133)...</td>\n",
       "    </tr>\n",
       "    <tr>\n",
       "      <th>3</th>\n",
       "      <td>430</td>\n",
       "      <td>0</td>\n",
       "      <td>mistral-7B</td>\n",
       "      <td>gpt-4o-mini</td>\n",
       "      <td>{'steps': [{'step_number': 1, 'concept': 'Lega...</td>\n",
       "      <td>[(1000, 1042), (1068, 1115), (601, 615), (1130...</td>\n",
       "    </tr>\n",
       "    <tr>\n",
       "      <th>4</th>\n",
       "      <td>430</td>\n",
       "      <td>1</td>\n",
       "      <td>gpt-3.5-turbo</td>\n",
       "      <td>gpt-4o-mini</td>\n",
       "      <td>{'steps': [{'step_number': 1, 'concept': 'Cann...</td>\n",
       "      <td>[(0, 57), (58, 263), (264, 480)]</td>\n",
       "    </tr>\n",
       "  </tbody>\n",
       "</table>\n",
       "</div>"
      ],
      "text/plain": [
       "   question_id  opinion_idx response_model entailment_model  \\\n",
       "0          430            0  gpt-3.5-turbo      gpt-4o-mini   \n",
       "1          430            0         gpt-4o      gpt-4o-mini   \n",
       "2          430            0   llama-3.1-8B      gpt-4o-mini   \n",
       "3          430            0     mistral-7B      gpt-4o-mini   \n",
       "4          430            1  gpt-3.5-turbo      gpt-4o-mini   \n",
       "\n",
       "                                   entailment_result  \\\n",
       "0  {'steps': [{'step_number': 1, 'concept': 'Cann...   \n",
       "1  {'steps': [{'step_number': 1, 'concept': 'Lega...   \n",
       "2  {'steps': [{'step_number': 1, 'concept': 'Lega...   \n",
       "3  {'steps': [{'step_number': 1, 'concept': 'Lega...   \n",
       "4  {'steps': [{'step_number': 1, 'concept': 'Cann...   \n",
       "\n",
       "                                             matches  \n",
       "0                   [(0, 57), (58, 263), (182, 263)]  \n",
       "1     [(24, 75), (331, 411), (291, 379), (403, 411)]  \n",
       "2  [(0, 113), (196, 353), (521, 645), (994, 1133)...  \n",
       "3  [(1000, 1042), (1068, 1115), (601, 615), (1130...  \n",
       "4                   [(0, 57), (58, 263), (264, 480)]  "
      ]
     },
     "execution_count": 8,
     "metadata": {},
     "output_type": "execute_result"
    }
   ],
   "source": [
    "raw_entailment_results = pd.DataFrame(entailment_results)\n",
    "raw_entailment_results.to_csv('data/raw_entailment_results.csv', index=False)\n",
    "raw_entailment_results.head()"
   ]
  },
  {
   "cell_type": "markdown",
   "metadata": {},
   "source": [
    "## Generating metrics\n",
    "\n",
    "Here we're going to generate a sample of metrics over the entailment results for each of the models."
   ]
  },
  {
   "cell_type": "code",
   "execution_count": 11,
   "metadata": {},
   "outputs": [],
   "source": [
    "raw_entailment_results['match_total_length'] = raw_entailment_results['matches'].apply(\n",
    "    lambda x: sum([match[1]-match[0] for match in x])\n",
    ")"
   ]
  },
  {
   "cell_type": "code",
   "execution_count": 24,
   "metadata": {},
   "outputs": [],
   "source": [
    "raw_entailment_results['question_length'] = raw_entailment_results['question_id'].map(df_questions.set_index('question_id')['question.text'].str.len())\n",
    "raw_entailment_results['match_length_ratio'] = raw_entailment_results['match_total_length'] / raw_entailment_results['question_length']"
   ]
  },
  {
   "cell_type": "code",
   "execution_count": 28,
   "metadata": {},
   "outputs": [
    {
     "data": {
      "text/plain": [
       "response_model\n",
       "gpt-3.5-turbo    4.708167\n",
       "gpt-4o           6.031645\n",
       "llama-3.1-8B     7.440795\n",
       "mistral-7B       2.956597\n",
       "Name: match_length_ratio, dtype: float64"
      ]
     },
     "execution_count": 28,
     "metadata": {},
     "output_type": "execute_result"
    }
   ],
   "source": [
    "raw_entailment_results.groupby(['response_model'])['match_length_ratio'].mean()"
   ]
  },
  {
   "cell_type": "code",
   "execution_count": 29,
   "metadata": {},
   "outputs": [
    {
     "data": {
      "image/png": "[encoded data removed]",
      "text/plain": [
       "<Figure size 1000x800 with 2 Axes>"
      ]
     },
     "metadata": {},
     "output_type": "display_data"
    }
   ],
   "source": [
    "# Now seaborn heatmap plot the correlation between the entailment length correlation across pairs of models\n",
    "import seaborn as sns\n",
    "import matplotlib.pyplot as plt\n",
    "\n",
    "# Pivot the data to create a matrix of match lengths by question/opinion and model\n",
    "pivot_df = raw_entailment_results.pivot_table(\n",
    "    index=['question_id', 'opinion_idx'],\n",
    "    columns='response_model',\n",
    "    values='match_length_ratio'\n",
    ")\n",
    "\n",
    "# Calculate correlation matrix\n",
    "corr_matrix = pivot_df.corr()\n",
    "\n",
    "# Create heatmap\n",
    "plt.figure(figsize=(10, 8))\n",
    "sns.heatmap(\n",
    "    corr_matrix,\n",
    "    annot=True,  # Show correlation values\n",
    "    cmap='coolwarm',  # Color scheme\n",
    "    vmin=-1, vmax=1,  # Force scale from -1 to 1\n",
    "    center=0,  # Center the colormap at 0\n",
    "    square=True  # Make cells square\n",
    ")\n",
    "plt.title('Correlation of Entailment Lengths Between Models')\n",
    "plt.tight_layout()\n",
    "plt.show()"
   ]
  },
  {
   "cell_type": "code",
   "execution_count": null,
   "metadata": {},
   "outputs": [],
   "source": []
  }
 ],
 "metadata": {
  "kernelspec": {
   "display_name": "base",
   "language": "python",
   "name": "python3"
  },
  "language_info": {
   "codemirror_mode": {
    "name": "ipython",
    "version": 3
   },
   "file_extension": ".py",
   "mimetype": "text/x-python",
   "name": "python",
   "nbconvert_exporter": "python",
   "pygments_lexer": "ipython3",
   "version": "3.10.5"
  }
 },
 "nbformat": 4,
 "nbformat_minor": 2
}
