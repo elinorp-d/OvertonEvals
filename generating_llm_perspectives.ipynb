{
 "cells": [
  {
   "cell_type": "markdown",
   "metadata": {},
   "source": [
    "# Generating LLM Perspectives & Comparing to Human Perspectives\n",
    "So far, we've been using the human provided responses as the \"ground truth\" for what is the full overton window. However, we can also generate our own \"ground truth\" by asking LLMs to provide their own perspectives.\n",
    "\n",
    "We're then going to compare the mapping of the LLM perspectives to the human provided responses.\n",
    "\n",
    "This takes in the `habermas_machine_questions_with_responses.csv` file and generates responses from the LLMs and will update it with the new LLM perspectives."
   ]
  },
  {
   "cell_type": "code",
   "execution_count": 2,
   "metadata": {},
   "outputs": [],
   "source": [
    "from dotenv import load_dotenv\n",
    "import pandas as pd, numpy as np, os\n",
    "\n",
    "# Load environment variables\n",
    "load_dotenv()\n",
    "DATA_PATH = os.getenv('DATA_PATH')\n",
    "TEMP_PATH = os.getenv('TEMP_PATH')\n",
    "\n",
    "df_questions = pd.read_csv(DATA_PATH+'habermas_machine_questions_with_responses.csv')"
   ]
  },
  {
   "cell_type": "code",
   "execution_count": 16,
   "metadata": {},
   "outputs": [
    {
     "data": {
      "text/html": [
       "<div>\n",
       "<style scoped>\n",
       "    .dataframe tbody tr th:only-of-type {\n",
       "        vertical-align: middle;\n",
       "    }\n",
       "\n",
       "    .dataframe tbody tr th {\n",
       "        vertical-align: top;\n",
       "    }\n",
       "\n",
       "    .dataframe thead th {\n",
       "        text-align: right;\n",
       "    }\n",
       "</style>\n",
       "<table border=\"1\" class=\"dataframe\">\n",
       "  <thead>\n",
       "    <tr style=\"text-align: right;\">\n",
       "      <th></th>\n",
       "      <th>question.text</th>\n",
       "      <th>own_opinion.text</th>\n",
       "      <th>question_topic</th>\n",
       "      <th>question_id</th>\n",
       "      <th>gpt-3.5-turbo</th>\n",
       "      <th>gpt-4o</th>\n",
       "      <th>gemini-1.5-flash-002</th>\n",
       "      <th>llama-3.1-8B</th>\n",
       "      <th>gemma-2b</th>\n",
       "      <th>mistral-7B</th>\n",
       "    </tr>\n",
       "  </thead>\n",
       "  <tbody>\n",
       "    <tr>\n",
       "      <th>0</th>\n",
       "      <td>Are people who hold high political office and ...</td>\n",
       "      <td>['One minute I think they should disclose and ...</td>\n",
       "      <td>74</td>\n",
       "      <td>15</td>\n",
       "      <td>There is no universal ethical requirement for ...</td>\n",
       "      <td>The ethical requirement for individuals in hig...</td>\n",
       "      <td>There's no universally agreed-upon ethical sta...</td>\n",
       "      <td>The requirement for public officials to disclo...</td>\n",
       "      <td>\\n\\nThis question is complex and there is no e...</td>\n",
       "      <td>\\n\\n[INST] Are people who hold high political ...</td>\n",
       "    </tr>\n",
       "    <tr>\n",
       "      <th>1</th>\n",
       "      <td>Are the NHS and the UK welfare state fit for p...</td>\n",
       "      <td>[\"The NHS and Welfare are not working how they...</td>\n",
       "      <td>51</td>\n",
       "      <td>19</td>\n",
       "      <td>This is a complex question that can have diffe...</td>\n",
       "      <td>The National Health Service (NHS) and the wide...</td>\n",
       "      <td>Whether the NHS and the UK welfare state are \"...</td>\n",
       "      <td>The NHS and the UK welfare state are complex s...</td>\n",
       "      <td>The UK's National Health Service (NHS) and its...</td>\n",
       "      <td>\\n\\nThe NHS is a national treasure, but it is ...</td>\n",
       "    </tr>\n",
       "    <tr>\n",
       "      <th>2</th>\n",
       "      <td>Are there any limits on what can be allowed to...</td>\n",
       "      <td>[\"We have to keep in mind some kind of decency...</td>\n",
       "      <td>52</td>\n",
       "      <td>34</td>\n",
       "      <td>Yes, there are regulations and guidelines set ...</td>\n",
       "      <td>Yes, there are several limits and regulations ...</td>\n",
       "      <td>Yes, there are many limits on what can be broa...</td>\n",
       "      <td>Yes, there are limits on what can be allowed t...</td>\n",
       "      <td>Yes, there are many limits on what can be allo...</td>\n",
       "      <td>\\n\\n[INST] What are the limits on what can be ...</td>\n",
       "    </tr>\n",
       "    <tr>\n",
       "      <th>3</th>\n",
       "      <td>Are there any questions that we should never a...</td>\n",
       "      <td>['I cannot think of a topic which would fall i...</td>\n",
       "      <td>14</td>\n",
       "      <td>36</td>\n",
       "      <td>There are certain topics that can be harmful, ...</td>\n",
       "      <td>The idea of restricting discussion or voting o...</td>\n",
       "      <td>There's no universally agreed-upon list of top...</td>\n",
       "      <td>While it's essential to maintain an open and i...</td>\n",
       "      <td>Sure, there are certain questions that should ...</td>\n",
       "      <td>\\n\\n[INST] Are there any questions that we sho...</td>\n",
       "    </tr>\n",
       "    <tr>\n",
       "      <th>4</th>\n",
       "      <td>Are there limits to how much tax people should...</td>\n",
       "      <td>[\"I think there are limits for poorer people t...</td>\n",
       "      <td>52</td>\n",
       "      <td>37</td>\n",
       "      <td>There is debate and varying opinions on what c...</td>\n",
       "      <td>The question of whether there should be limits...</td>\n",
       "      <td>There's no universally agreed-upon limit to ho...</td>\n",
       "      <td>The concept of tax limits is a complex and deb...</td>\n",
       "      <td>Sure, there are limits to how much tax people ...</td>\n",
       "      <td>\\n\\n[INST] What is the best way to raise money...</td>\n",
       "    </tr>\n",
       "  </tbody>\n",
       "</table>\n",
       "</div>"
      ],
      "text/plain": [
       "                                       question.text  \\\n",
       "0  Are people who hold high political office and ...   \n",
       "1  Are the NHS and the UK welfare state fit for p...   \n",
       "2  Are there any limits on what can be allowed to...   \n",
       "3  Are there any questions that we should never a...   \n",
       "4  Are there limits to how much tax people should...   \n",
       "\n",
       "                                    own_opinion.text  question_topic  \\\n",
       "0  ['One minute I think they should disclose and ...              74   \n",
       "1  [\"The NHS and Welfare are not working how they...              51   \n",
       "2  [\"We have to keep in mind some kind of decency...              52   \n",
       "3  ['I cannot think of a topic which would fall i...              14   \n",
       "4  [\"I think there are limits for poorer people t...              52   \n",
       "\n",
       "   question_id                                      gpt-3.5-turbo  \\\n",
       "0           15  There is no universal ethical requirement for ...   \n",
       "1           19  This is a complex question that can have diffe...   \n",
       "2           34  Yes, there are regulations and guidelines set ...   \n",
       "3           36  There are certain topics that can be harmful, ...   \n",
       "4           37  There is debate and varying opinions on what c...   \n",
       "\n",
       "                                              gpt-4o  \\\n",
       "0  The ethical requirement for individuals in hig...   \n",
       "1  The National Health Service (NHS) and the wide...   \n",
       "2  Yes, there are several limits and regulations ...   \n",
       "3  The idea of restricting discussion or voting o...   \n",
       "4  The question of whether there should be limits...   \n",
       "\n",
       "                                gemini-1.5-flash-002  \\\n",
       "0  There's no universally agreed-upon ethical sta...   \n",
       "1  Whether the NHS and the UK welfare state are \"...   \n",
       "2  Yes, there are many limits on what can be broa...   \n",
       "3  There's no universally agreed-upon list of top...   \n",
       "4  There's no universally agreed-upon limit to ho...   \n",
       "\n",
       "                                        llama-3.1-8B  \\\n",
       "0  The requirement for public officials to disclo...   \n",
       "1  The NHS and the UK welfare state are complex s...   \n",
       "2  Yes, there are limits on what can be allowed t...   \n",
       "3  While it's essential to maintain an open and i...   \n",
       "4  The concept of tax limits is a complex and deb...   \n",
       "\n",
       "                                            gemma-2b  \\\n",
       "0  \\n\\nThis question is complex and there is no e...   \n",
       "1  The UK's National Health Service (NHS) and its...   \n",
       "2  Yes, there are many limits on what can be allo...   \n",
       "3  Sure, there are certain questions that should ...   \n",
       "4  Sure, there are limits to how much tax people ...   \n",
       "\n",
       "                                          mistral-7B  \n",
       "0  \\n\\n[INST] Are people who hold high political ...  \n",
       "1  \\n\\nThe NHS is a national treasure, but it is ...  \n",
       "2  \\n\\n[INST] What are the limits on what can be ...  \n",
       "3  \\n\\n[INST] Are there any questions that we sho...  \n",
       "4  \\n\\n[INST] What is the best way to raise money...  "
      ]
     },
     "execution_count": 16,
     "metadata": {},
     "output_type": "execute_result"
    }
   ],
   "source": [
    "df_questions.head()"
   ]
  },
  {
   "cell_type": "markdown",
   "metadata": {},
   "source": [
    "## Structured Generation of LLM Perspectives"
   ]
  },
  {
   "cell_type": "code",
   "execution_count": 10,
   "metadata": {},
   "outputs": [],
   "source": [
    "\n",
    "from pydantic import BaseModel\n",
    "from openai import OpenAI\n",
    "import json\n",
    "\n",
    "client = OpenAI(api_key=os.getenv('OPENAI_API_KEY'))\n",
    "\n",
    "class SinglePerspective(BaseModel):\n",
    "    perspective: str\n",
    "\n",
    "class PerspectiveChain(BaseModel):\n",
    "    steps: list[SinglePerspective]\n",
    "\n",
    "def generate_perspectives(question: str):\n",
    "    \"\"\"\n",
    "    Generate a multiple perspectives of answers to a question.\n",
    "\n",
    "    Args:\n",
    "        question: Context question or query\n",
    "    \"\"\"\n",
    "    system_prompt = f\"\"\"\n",
    "You are a helpful assistant that generates multiple perspectives of answers to a question. You will be given a question and you will generate a list of possible answer perspectives. Make sure you cover all possible perspectives but do not repeat yourself.\n",
    "\"\"\"\n",
    "\n",
    "    prompt = f\"\"\"Question: {question}\n",
    "Now, step by step, outline each broad answer perspective to this question.\"\"\"\n",
    "\n",
    "    chat_response = client.chat.completions.create(\n",
    "        model=\"gpt-4o-2024-08-06\",\n",
    "        messages=[\n",
    "            {\"role\": \"system\", \"content\": system_prompt},\n",
    "            {\"role\": \"user\", \"content\": prompt}\n",
    "        ],\n",
    "        temperature=1,\n",
    "        response_format={\n",
    "            'type': 'json_schema',\n",
    "            'json_schema': \n",
    "                {\n",
    "                \"name\": \"PerspectiveChain\", \n",
    "                \"schema\": PerspectiveChain.model_json_schema()\n",
    "                }\n",
    "            } \n",
    "    )\n",
    "\n",
    "    result_object = json.loads(chat_response.choices[0].message.content)\n",
    "    return [step['perspective'] for step in result_object['steps']]\n"
   ]
  },
  {
   "cell_type": "code",
   "execution_count": 19,
   "metadata": {},
   "outputs": [
    {
     "name": "stderr",
     "output_type": "stream",
     "text": [
      "Generating perspectives: 100%|██████████| 100/100 [06:47<00:00,  4.08s/it]\n"
     ]
    }
   ],
   "source": [
    "from tqdm import tqdm\n",
    "\n",
    "# Using a loop rather than .apply for restart simplicity & tqdm\n",
    "llm_perspectives = []\n",
    "for question in tqdm(df_questions['question.text'], desc=\"Generating perspectives\"):\n",
    "    perspectives = generate_perspectives(question)\n",
    "    llm_perspectives.append(perspectives)\n",
    "\n",
    "df_questions['llm_perspectives'] = llm_perspectives"
   ]
  },
  {
   "cell_type": "code",
   "execution_count": 22,
   "metadata": {},
   "outputs": [
    {
     "data": {
      "text/html": [
       "<div>\n",
       "<style scoped>\n",
       "    .dataframe tbody tr th:only-of-type {\n",
       "        vertical-align: middle;\n",
       "    }\n",
       "\n",
       "    .dataframe tbody tr th {\n",
       "        vertical-align: top;\n",
       "    }\n",
       "\n",
       "    .dataframe thead th {\n",
       "        text-align: right;\n",
       "    }\n",
       "</style>\n",
       "<table border=\"1\" class=\"dataframe\">\n",
       "  <thead>\n",
       "    <tr style=\"text-align: right;\">\n",
       "      <th></th>\n",
       "      <th>question.text</th>\n",
       "      <th>question_topic</th>\n",
       "      <th>question_id</th>\n",
       "      <th>llm_perspectives</th>\n",
       "    </tr>\n",
       "  </thead>\n",
       "  <tbody>\n",
       "    <tr>\n",
       "      <th>0</th>\n",
       "      <td>Are people who hold high political office and ...</td>\n",
       "      <td>74</td>\n",
       "      <td>15</td>\n",
       "      <td>[Yes, for Transparency and Accountability: Pub...</td>\n",
       "    </tr>\n",
       "    <tr>\n",
       "      <th>1</th>\n",
       "      <td>Are the NHS and the UK welfare state fit for p...</td>\n",
       "      <td>51</td>\n",
       "      <td>19</td>\n",
       "      <td>[Advocates of the current system often argue t...</td>\n",
       "    </tr>\n",
       "    <tr>\n",
       "      <th>2</th>\n",
       "      <td>Are there any limits on what can be allowed to...</td>\n",
       "      <td>52</td>\n",
       "      <td>34</td>\n",
       "      <td>[Legal and Regulatory Perspective: Various cou...</td>\n",
       "    </tr>\n",
       "    <tr>\n",
       "      <th>3</th>\n",
       "      <td>Are there any questions that we should never a...</td>\n",
       "      <td>14</td>\n",
       "      <td>36</td>\n",
       "      <td>[Some argue that there are indeed questions wh...</td>\n",
       "    </tr>\n",
       "    <tr>\n",
       "      <th>4</th>\n",
       "      <td>Are there limits to how much tax people should...</td>\n",
       "      <td>52</td>\n",
       "      <td>37</td>\n",
       "      <td>[Yes, there should be limits: A perspective th...</td>\n",
       "    </tr>\n",
       "  </tbody>\n",
       "</table>\n",
       "</div>"
      ],
      "text/plain": [
       "                                       question.text  question_topic  \\\n",
       "0  Are people who hold high political office and ...              74   \n",
       "1  Are the NHS and the UK welfare state fit for p...              51   \n",
       "2  Are there any limits on what can be allowed to...              52   \n",
       "3  Are there any questions that we should never a...              14   \n",
       "4  Are there limits to how much tax people should...              52   \n",
       "\n",
       "   question_id                                   llm_perspectives  \n",
       "0           15  [Yes, for Transparency and Accountability: Pub...  \n",
       "1           19  [Advocates of the current system often argue t...  \n",
       "2           34  [Legal and Regulatory Perspective: Various cou...  \n",
       "3           36  [Some argue that there are indeed questions wh...  \n",
       "4           37  [Yes, there should be limits: A perspective th...  "
      ]
     },
     "execution_count": 22,
     "metadata": {},
     "output_type": "execute_result"
    }
   ],
   "source": [
    "df_llm_perspectives = df_questions[['question.text', 'question_topic', 'question_id', 'llm_perspectives']]\n",
    "df_llm_perspectives.head()"
   ]
  },
  {
   "cell_type": "code",
   "execution_count": 23,
   "metadata": {},
   "outputs": [],
   "source": [
    "# To keep things separate and clean, we're going to save these to a different file.\n",
    "df_llm_perspectives.to_csv(DATA_PATH+'habermas_machine_questions_with_LLM_generated_perspectives.csv', index=False) "
   ]
  },
  {
   "cell_type": "markdown",
   "metadata": {},
   "source": [
    "# Comparative Analysis\n",
    "\n"
   ]
  },
  {
   "cell_type": "code",
   "execution_count": 3,
   "metadata": {},
   "outputs": [],
   "source": [
    "import ast\n",
    "\n",
    "df_llm_perspectives = pd.read_csv(DATA_PATH+'habermas_machine_questions_with_LLM_generated_perspectives.csv')\n",
    "df_questions = pd.read_csv(DATA_PATH+'habermas_machine_questions_with_responses.csv')\n",
    "df_questions['own_opinion.text'] = df_questions['own_opinion.text'].apply(ast.literal_eval)\n",
    "df_llm_perspectives['llm_perspectives'] = df_llm_perspectives['llm_perspectives'].apply(ast.literal_eval)"
   ]
  },
  {
   "cell_type": "code",
   "execution_count": 4,
   "metadata": {},
   "outputs": [
    {
     "data": {
      "text/html": [
       "<div>\n",
       "<style scoped>\n",
       "    .dataframe tbody tr th:only-of-type {\n",
       "        vertical-align: middle;\n",
       "    }\n",
       "\n",
       "    .dataframe tbody tr th {\n",
       "        vertical-align: top;\n",
       "    }\n",
       "\n",
       "    .dataframe thead th {\n",
       "        text-align: right;\n",
       "    }\n",
       "</style>\n",
       "<table border=\"1\" class=\"dataframe\">\n",
       "  <thead>\n",
       "    <tr style=\"text-align: right;\">\n",
       "      <th></th>\n",
       "      <th>question.text</th>\n",
       "      <th>question_topic</th>\n",
       "      <th>question_id</th>\n",
       "      <th>llm_perspectives</th>\n",
       "      <th>own_opinion.text</th>\n",
       "    </tr>\n",
       "  </thead>\n",
       "  <tbody>\n",
       "    <tr>\n",
       "      <th>0</th>\n",
       "      <td>Are people who hold high political office and ...</td>\n",
       "      <td>74</td>\n",
       "      <td>15</td>\n",
       "      <td>[Yes, for Transparency and Accountability: Pub...</td>\n",
       "      <td>[One minute I think they should disclose and t...</td>\n",
       "    </tr>\n",
       "    <tr>\n",
       "      <th>1</th>\n",
       "      <td>Are the NHS and the UK welfare state fit for p...</td>\n",
       "      <td>51</td>\n",
       "      <td>19</td>\n",
       "      <td>[Advocates of the current system often argue t...</td>\n",
       "      <td>[The NHS and Welfare are not working how they ...</td>\n",
       "    </tr>\n",
       "    <tr>\n",
       "      <th>2</th>\n",
       "      <td>Are there any limits on what can be allowed to...</td>\n",
       "      <td>52</td>\n",
       "      <td>34</td>\n",
       "      <td>[Legal and Regulatory Perspective: Various cou...</td>\n",
       "      <td>[We have to keep in mind some kind of decency ...</td>\n",
       "    </tr>\n",
       "    <tr>\n",
       "      <th>3</th>\n",
       "      <td>Are there any questions that we should never a...</td>\n",
       "      <td>14</td>\n",
       "      <td>36</td>\n",
       "      <td>[Some argue that there are indeed questions wh...</td>\n",
       "      <td>[I cannot think of a topic which would fall in...</td>\n",
       "    </tr>\n",
       "    <tr>\n",
       "      <th>4</th>\n",
       "      <td>Are there limits to how much tax people should...</td>\n",
       "      <td>52</td>\n",
       "      <td>37</td>\n",
       "      <td>[Yes, there should be limits: A perspective th...</td>\n",
       "      <td>[I think there are limits for poorer people to...</td>\n",
       "    </tr>\n",
       "  </tbody>\n",
       "</table>\n",
       "</div>"
      ],
      "text/plain": [
       "                                       question.text  question_topic  \\\n",
       "0  Are people who hold high political office and ...              74   \n",
       "1  Are the NHS and the UK welfare state fit for p...              51   \n",
       "2  Are there any limits on what can be allowed to...              52   \n",
       "3  Are there any questions that we should never a...              14   \n",
       "4  Are there limits to how much tax people should...              52   \n",
       "\n",
       "   question_id                                   llm_perspectives  \\\n",
       "0           15  [Yes, for Transparency and Accountability: Pub...   \n",
       "1           19  [Advocates of the current system often argue t...   \n",
       "2           34  [Legal and Regulatory Perspective: Various cou...   \n",
       "3           36  [Some argue that there are indeed questions wh...   \n",
       "4           37  [Yes, there should be limits: A perspective th...   \n",
       "\n",
       "                                    own_opinion.text  \n",
       "0  [One minute I think they should disclose and t...  \n",
       "1  [The NHS and Welfare are not working how they ...  \n",
       "2  [We have to keep in mind some kind of decency ...  \n",
       "3  [I cannot think of a topic which would fall in...  \n",
       "4  [I think there are limits for poorer people to...  "
      ]
     },
     "execution_count": 4,
     "metadata": {},
     "output_type": "execute_result"
    }
   ],
   "source": [
    "# Match the df_llm_perspectives and df_questions by question_id\n",
    "df_llm_perspectives = df_llm_perspectives.merge(df_questions[['question_id', 'own_opinion.text']], on='question_id', how='left')\n",
    "df_llm_perspectives.head()"
   ]
  },
  {
   "cell_type": "code",
   "execution_count": 11,
   "metadata": {},
   "outputs": [],
   "source": [
    "from openai import OpenAI\n",
    "import json\n",
    "\n",
    "client = OpenAI(api_key=os.getenv('OPENAI_API_KEY'))\n",
    "\n",
    "def are_these_perspectives_the_same(perspective_a: str, perspective_b: str):\n",
    "    \"\"\"\n",
    "    Determine if two perspectives are the same.\n",
    "    \"\"\"\n",
    "    system_prompt = f\"\"\"You will be given two perspectives and you will determine if they are the same. Read carefully the two perspectives and answer yes if they are expressing the same broad perspective or opinion. Answer no otherwise. ONLY say a single word: 'yes' or 'no'.\"\"\"\n",
    "\n",
    "    prompt = f\"\"\"Perspective A: {perspective_a}\n",
    "Perspective B: {perspective_b}\n",
    "Are these the same perspective/opinion? Yes/no answer:\"\"\"\n",
    "\n",
    "    chat_response = client.chat.completions.create(\n",
    "        model=\"gpt-4o\",\n",
    "        messages=[\n",
    "            {\"role\": \"system\", \"content\": system_prompt},\n",
    "            {\"role\": \"user\", \"content\": prompt}\n",
    "        ],\n",
    "        temperature=0,\n",
    "        max_tokens=1\n",
    "    )\n",
    "    return 1 if chat_response.choices[0].message.content.strip().lower() == 'yes' else 0"
   ]
  },
  {
   "cell_type": "code",
   "execution_count": 9,
   "metadata": {},
   "outputs": [],
   "source": [
    "same_perspective_matrix = [[0]*len(row['own_opinion.text'])]*len(row['llm_perspectives'])"
   ]
  },
  {
   "cell_type": "code",
   "execution_count": 10,
   "metadata": {},
   "outputs": [
    {
     "data": {
      "text/plain": [
       "[[0, 0, 0, 0, 0],\n",
       " [0, 0, 0, 0, 0],\n",
       " [0, 0, 0, 0, 0],\n",
       " [0, 0, 0, 0, 0],\n",
       " [0, 0, 0, 0, 0],\n",
       " [0, 0, 0, 0, 0],\n",
       " [0, 0, 0, 0, 0],\n",
       " [0, 0, 0, 0, 0]]"
      ]
     },
     "execution_count": 10,
     "metadata": {},
     "output_type": "execute_result"
    }
   ],
   "source": [
    "same_perspective_matrix"
   ]
  },
  {
   "cell_type": "code",
   "execution_count": 12,
   "metadata": {},
   "outputs": [
    {
     "name": "stdout",
     "output_type": "stream",
     "text": [
      "Are people who hold high political office and have a significant influence on public life ethically required to disclose details about their family wealth?\n",
      "['One minute I think they should disclose and then the next I change my mind. Their personal wealth should not be a factor in their role however I could see that this could result in possible conflicts.', 'I think in this case it is not necessary for the individual in political office to disclose their income, i think this is essentially a private matter and does not really make a difference in their policies, i am not concerned about their wealth whether they are financially rich or poor, i am interested in what good and positive change they are making in their office, i think it is their personal life and no one else concern in overall conclusion.', 'I think people in any position should be able to have privacy.  I do think though depending on the job they have & any potential control they have on public finances or services would be skewed depending on what the persons or family wealth is.  For instance, A rich politician who has been never been in financial trouble or struggles to make ends meat wont realist what it is like for someone who is in that situation & wont be able to give really thoughtful actions in to what finding is available for certain things or what benefits should be allocated to certain groups.  In that case I think someone making decisions that effect millions of people should be more transparant on their wealth & their upbringing.  People who cant even answer how much a pint of milk is shouldnt be able to decide the financial situation of millions & people should know that kind of detail.', \"If the general public are not required to disclose details about their family wealth, then people in high political position shouldn't be expected to either. Most people earn their wealth through hard work and graft and there will always be people who earn more  and have more than others in society. No matter what our political viewpoints are, it would be unfair to ask someone to disclose information which can be seen as personal and confidential. \", \"I generally agree that this should happen and they ethically, should do so. Those in political office and high wealth, can influence both the public but also business and commercial activities, particularly if they have large stakes in businesses. I don't think it should be mandatory, however, being in such powerful positions the individual should morally and ethically feel obliged to disclose their tax affairs and family wealth. Naturally, individuals in powerful positions won't want to disclose their wealth as they feel it may distance themselves from the public, but being more open could only improve the relationship with the public.\"]\n",
      "[[0, 0, 0, 0, 1], [0, 0, 0, 0, 1], [0, 0, 0, 0, 1], [0, 0, 0, 0, 1], [0, 0, 0, 0, 1], [0, 0, 0, 0, 1], [0, 0, 0, 0, 1], [0, 0, 0, 0, 1]]\n"
     ]
    }
   ],
   "source": [
    "for index, row in df_llm_perspectives.iterrows():\n",
    "    print(row['question.text'])\n",
    "    print(row['own_opinion.text'])\n",
    "    # We're gonna generate a pairwise comparison of the own opinion and each of the LLM perspectives.\n",
    "    # The complexity of this is pretty bad given the size of the context windows and can be very slow (20s per question).\n",
    "    same_perspective_matrix = [[0]*len(row['own_opinion.text'])]*len(row['llm_perspectives'])\n",
    "    for i, perspective in enumerate(row['llm_perspectives']):\n",
    "        for j, own_opinion in enumerate(row['own_opinion.text']):\n",
    "            same_perspective_matrix[i][j] = are_these_perspectives_the_same(perspective, own_opinion)\n",
    "    print(same_perspective_matrix)\n",
    "    break"
   ]
  },
  {
   "cell_type": "code",
   "execution_count": 25,
   "metadata": {},
   "outputs": [
    {
     "data": {
      "text/plain": [
       "'No, Right to Privacy: Public figures and their families have a right to privacy, and disclosing family wealth may be an unnecessary invasion of personal and family privacy.'"
      ]
     },
     "execution_count": 25,
     "metadata": {},
     "output_type": "execute_result"
    }
   ],
   "source": [
    "row['llm_perspectives'][2]"
   ]
  },
  {
   "cell_type": "code",
   "execution_count": 22,
   "metadata": {},
   "outputs": [
    {
     "data": {
      "text/plain": [
       "\"I generally agree that this should happen and they ethically, should do so. Those in political office and high wealth, can influence both the public but also business and commercial activities, particularly if they have large stakes in businesses. I don't think it should be mandatory, however, being in such powerful positions the individual should morally and ethically feel obliged to disclose their tax affairs and family wealth. Naturally, individuals in powerful positions won't want to disclose their wealth as they feel it may distance themselves from the public, but being more open could only improve the relationship with the public.\""
      ]
     },
     "execution_count": 22,
     "metadata": {},
     "output_type": "execute_result"
    }
   ],
   "source": [
    "row['own_opinion.text'][4]"
   ]
  },
  {
   "cell_type": "markdown",
   "metadata": {},
   "source": [
    "### WIP Notes\n",
    "\n",
    "It's really hard to actually determine if two perspectives are the same. We're going to need to try to interate on this.\n",
    "\n",
    "In addition, using the LLM to do so is reasonable slow (but not too bad). Perhaps a clustering method would be better?"
   ]
  },
  {
   "cell_type": "markdown",
   "metadata": {},
   "source": []
  }
 ],
 "metadata": {
  "kernelspec": {
   "display_name": "base",
   "language": "python",
   "name": "python3"
  },
  "language_info": {
   "codemirror_mode": {
    "name": "ipython",
    "version": 3
   },
   "file_extension": ".py",
   "mimetype": "text/x-python",
   "name": "python",
   "nbconvert_exporter": "python",
   "pygments_lexer": "ipython3",
   "version": "3.10.5"
  }
 },
 "nbformat": 4,
 "nbformat_minor": 2
}
