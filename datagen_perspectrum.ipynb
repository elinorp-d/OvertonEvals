{
 "cells": [
  {
   "cell_type": "code",
   "execution_count": 1,
   "metadata": {},
   "outputs": [
    {
     "name": "stdout",
     "output_type": "stream",
     "text": [
      "Cloning into 'perspectrum'...\n",
      "remote: Enumerating objects: 2964, done.\u001b[K\n",
      "remote: Counting objects: 100% (3/3), done.\u001b[K\n",
      "remote: Compressing objects: 100% (2/2), done.\u001b[K\n",
      "remote: Total 2964 (delta 0), reused 0 (delta 0), pack-reused 2961 (from 1)\u001b[K\n",
      "Receiving objects: 100% (2964/2964), 46.28 MiB | 33.05 MiB/s, done.\n",
      "Resolving deltas: 100% (2004/2004), done.\n"
     ]
    }
   ],
   "source": [
    "!git clone https://github.com/CogComp/perspectrum.git"
   ]
  },
  {
   "cell_type": "code",
   "execution_count": 29,
   "metadata": {},
   "outputs": [],
   "source": [
    "import json, numpy as np, pandas as pd, os\n",
    "from itertools import chain\n"
   ]
  },
  {
   "cell_type": "code",
   "execution_count": 11,
   "metadata": {},
   "outputs": [
    {
     "name": "stdout",
     "output_type": "stream",
     "text": [
      "README.md                          perspective_pool_v1.0.json\n",
      "dataset_split_v1.0.json            perspectrum_with_answers_v1.0.json\n",
      "evidence_pool_v1.0.json            topic.json\n",
      "license.txt\n"
     ]
    }
   ],
   "source": [
    "!ls perspectrum/data/dataset\n"
   ]
  },
  {
   "cell_type": "code",
   "execution_count": 21,
   "metadata": {},
   "outputs": [
    {
     "data": {
      "text/html": [
       "<div>\n",
       "<style scoped>\n",
       "    .dataframe tbody tr th:only-of-type {\n",
       "        vertical-align: middle;\n",
       "    }\n",
       "\n",
       "    .dataframe tbody tr th {\n",
       "        vertical-align: top;\n",
       "    }\n",
       "\n",
       "    .dataframe thead th {\n",
       "        text-align: right;\n",
       "    }\n",
       "</style>\n",
       "<table border=\"1\" class=\"dataframe\">\n",
       "  <thead>\n",
       "    <tr style=\"text-align: right;\">\n",
       "      <th></th>\n",
       "      <th>text</th>\n",
       "      <th>source</th>\n",
       "      <th>perspectives</th>\n",
       "      <th>topics</th>\n",
       "    </tr>\n",
       "    <tr>\n",
       "      <th>cId</th>\n",
       "      <th></th>\n",
       "      <th></th>\n",
       "      <th></th>\n",
       "      <th></th>\n",
       "    </tr>\n",
       "  </thead>\n",
       "  <tbody>\n",
       "    <tr>\n",
       "      <th>499</th>\n",
       "      <td>Vaccination must be made compulsory</td>\n",
       "      <td>idebate</td>\n",
       "      <td>[{'pids': [3695, 24076, 24077], 'stance_label_...</td>\n",
       "      <td>[health_and_medicine]</td>\n",
       "    </tr>\n",
       "    <tr>\n",
       "      <th>167</th>\n",
       "      <td>Male infant circumcision is tantamount to chil...</td>\n",
       "      <td>idebate</td>\n",
       "      <td>[{'pids': [1242, 21983, 21984], 'stance_label_...</td>\n",
       "      <td>[culture, health_and_medicine, gender]</td>\n",
       "    </tr>\n",
       "    <tr>\n",
       "      <th>943</th>\n",
       "      <td>School Day Should Be Extended</td>\n",
       "      <td>debatewise</td>\n",
       "      <td>[{'pids': [7579], 'stance_label_3': 'SUPPORT',...</td>\n",
       "      <td>[]</td>\n",
       "    </tr>\n",
       "    <tr>\n",
       "      <th>944</th>\n",
       "      <td>punishment should fit the criminal</td>\n",
       "      <td>debatewise</td>\n",
       "      <td>[{'pids': [7584, 26958, 26959], 'stance_label_...</td>\n",
       "      <td>[law]</td>\n",
       "    </tr>\n",
       "    <tr>\n",
       "      <th>621</th>\n",
       "      <td>A government has the obligation to lessen the ...</td>\n",
       "      <td>debatewise</td>\n",
       "      <td>[{'pids': [5143], 'stance_label_3': 'SUPPORT',...</td>\n",
       "      <td>[politics, economy, society]</td>\n",
       "    </tr>\n",
       "  </tbody>\n",
       "</table>\n",
       "</div>"
      ],
      "text/plain": [
       "                                                  text      source  \\\n",
       "cId                                                                  \n",
       "499                Vaccination must be made compulsory     idebate   \n",
       "167  Male infant circumcision is tantamount to chil...     idebate   \n",
       "943                      School Day Should Be Extended  debatewise   \n",
       "944                 punishment should fit the criminal  debatewise   \n",
       "621  A government has the obligation to lessen the ...  debatewise   \n",
       "\n",
       "                                          perspectives  \\\n",
       "cId                                                      \n",
       "499  [{'pids': [3695, 24076, 24077], 'stance_label_...   \n",
       "167  [{'pids': [1242, 21983, 21984], 'stance_label_...   \n",
       "943  [{'pids': [7579], 'stance_label_3': 'SUPPORT',...   \n",
       "944  [{'pids': [7584, 26958, 26959], 'stance_label_...   \n",
       "621  [{'pids': [5143], 'stance_label_3': 'SUPPORT',...   \n",
       "\n",
       "                                     topics  \n",
       "cId                                          \n",
       "499                   [health_and_medicine]  \n",
       "167  [culture, health_and_medicine, gender]  \n",
       "943                                      []  \n",
       "944                                   [law]  \n",
       "621            [politics, economy, society]  "
      ]
     },
     "execution_count": 21,
     "metadata": {},
     "output_type": "execute_result"
    }
   ],
   "source": [
    "perspectrum_with_answers = pd.read_json('perspectrum/data/dataset/perspectrum_with_answers_v1.0.json')\n",
    "perspectrum_with_answers.set_index('cId', inplace=True)\n",
    "perspectrum_with_answers.head()"
   ]
  },
  {
   "cell_type": "code",
   "execution_count": 22,
   "metadata": {},
   "outputs": [
    {
     "data": {
      "text/html": [
       "<div>\n",
       "<style scoped>\n",
       "    .dataframe tbody tr th:only-of-type {\n",
       "        vertical-align: middle;\n",
       "    }\n",
       "\n",
       "    .dataframe tbody tr th {\n",
       "        vertical-align: top;\n",
       "    }\n",
       "\n",
       "    .dataframe thead th {\n",
       "        text-align: right;\n",
       "    }\n",
       "</style>\n",
       "<table border=\"1\" class=\"dataframe\">\n",
       "  <thead>\n",
       "    <tr style=\"text-align: right;\">\n",
       "      <th></th>\n",
       "      <th>text</th>\n",
       "      <th>source</th>\n",
       "    </tr>\n",
       "    <tr>\n",
       "      <th>pId</th>\n",
       "      <th></th>\n",
       "      <th></th>\n",
       "    </tr>\n",
       "  </thead>\n",
       "  <tbody>\n",
       "    <tr>\n",
       "      <th>1</th>\n",
       "      <td>Being a performer limits a child’s formal educ...</td>\n",
       "      <td>idebate</td>\n",
       "    </tr>\n",
       "    <tr>\n",
       "      <th>2</th>\n",
       "      <td>performers are at risk of exploitation</td>\n",
       "      <td>idebate</td>\n",
       "    </tr>\n",
       "    <tr>\n",
       "      <th>3</th>\n",
       "      <td>It is unethical to expose children to the pres...</td>\n",
       "      <td>idebate</td>\n",
       "    </tr>\n",
       "    <tr>\n",
       "      <th>4</th>\n",
       "      <td>Being a performer can make the child physicall...</td>\n",
       "      <td>idebate</td>\n",
       "    </tr>\n",
       "    <tr>\n",
       "      <th>5</th>\n",
       "      <td>Allowing children to perform pushes them to gr...</td>\n",
       "      <td>idebate</td>\n",
       "    </tr>\n",
       "  </tbody>\n",
       "</table>\n",
       "</div>"
      ],
      "text/plain": [
       "                                                  text   source\n",
       "pId                                                            \n",
       "1    Being a performer limits a child’s formal educ...  idebate\n",
       "2               performers are at risk of exploitation  idebate\n",
       "3    It is unethical to expose children to the pres...  idebate\n",
       "4    Being a performer can make the child physicall...  idebate\n",
       "5    Allowing children to perform pushes them to gr...  idebate"
      ]
     },
     "execution_count": 22,
     "metadata": {},
     "output_type": "execute_result"
    }
   ],
   "source": [
    "perspective_pool = pd.read_json('perspectrum/data/dataset/perspective_pool_v1.0.json')\n",
    "perspective_pool.set_index('pId', inplace=True)\n",
    "perspective_pool.head()"
   ]
  },
  {
   "cell_type": "code",
   "execution_count": 39,
   "metadata": {},
   "outputs": [
    {
     "name": "stdout",
     "output_type": "stream",
     "text": [
      "text            Labels on food must be mandated to encourage p...\n",
      "source                                                    idebate\n",
      "perspectives    [{'pids': [3397, 23784, 23785], 'stance_label_...\n",
      "topics                                                         []\n",
      "Name: 455, dtype: object\n",
      "\n",
      "Question: Labels on food must be mandated to encourage people to eat better\n",
      "\n",
      "Perspective:                                                     text      source\n",
      "pId                                                                 \n",
      "3397   Food labeling allows companies to deceive cons...     idebate\n",
      "23784  By labeling their foods, companies are able to...  paraphrase\n",
      "23785  Consumers can be fed lies by companies via foo...  paraphrase\n",
      "3395   Food labeling encourages food companies to pro...     idebate\n",
      "23780  When made to label foods, food companies gener...  paraphrase\n",
      "23781  When companies label their foods, consumers ha...  paraphrase\n",
      "3396     Food labeling does not change consumer behavior     idebate\n",
      "23782  Consumers do not change their buying habits ba...  paraphrase\n",
      "3393   Food labeling is an important form of consumer...     idebate\n",
      "23776  In order to protect consumers, it is important...  paraphrase\n",
      "23777  When foods go unlabeled, consumers lack a vita...  paraphrase\n",
      "3394   Food labeling helps people make better choices...     idebate\n",
      "23778  It is easier for people to make healthier food...  paraphrase\n",
      "23779  In order to make healthy food choices, it is i...  paraphrase\n",
      "3398   Food labeling introduces unfair prejudice agai...     idebate\n",
      "23786  Food labels encourage bias against certain typ...  paraphrase\n",
      "23787  Nutrition labeling on packages can encourage c...  paraphrase\n"
     ]
    }
   ],
   "source": [
    "example_question = perspectrum_with_answers.sample(1).iloc[0]\n",
    "print(example_question)\n",
    "print(\"\\nQuestion:\", example_question['text'])\n",
    "perspective = example_question['perspectives']\n",
    "pIds = list(chain(*[p['pids'] for p in perspective]))\n",
    "perspective_pool.loc[pIds]\n",
    "\n",
    "print(\"\\nPerspective:\", perspective_pool.loc[pIds])"
   ]
  },
  {
   "cell_type": "markdown",
   "metadata": {},
   "source": [
    "#### Generate one big dataframe"
   ]
  },
  {
   "cell_type": "code",
   "execution_count": 38,
   "metadata": {},
   "outputs": [
    {
     "data": {
      "text/plain": [
       "['The Hyperloop is comparatively cheap',\n",
       " 'The Hyperlook is cost effective.',\n",
       " 'Compared to other methods of transportation, the Hyperloop is inexpensive.',\n",
       " 'Fastest possible transportation over a short distance',\n",
       " 'The fastest route over a short distance',\n",
       " 'The fastest route over one short distance ',\n",
       " 'It will never work',\n",
       " \"It's utility is doubtful.\",\n",
       " \"It's unlikely it will function as planned.\",\n",
       " 'The Hyperloop will be a low cost system for the user',\n",
       " 'The Hyperloop will be affordable for consumers.',\n",
       " 'People will be able to afford to use the Hyperloop.']"
      ]
     },
     "execution_count": 38,
     "metadata": {},
     "output_type": "execute_result"
    }
   ],
   "source": [
    "# Make this an array of strings\n",
    "perspective_pool.loc[pIds]['text'].to_list()"
   ]
  },
  {
   "cell_type": "code",
   "execution_count": 44,
   "metadata": {},
   "outputs": [],
   "source": [
    "def get_perspective_pool(perspective):\n",
    "    pIds = list(chain(*[p['pids'] for p in perspective]))\n",
    "    return perspective_pool.loc[pIds]['text'].to_list()\n"
   ]
  },
  {
   "cell_type": "code",
   "execution_count": 47,
   "metadata": {},
   "outputs": [],
   "source": [
    "perspectrum_with_answers['perspectives.text'] = perspectrum_with_answers['perspectives'].apply(get_perspective_pool)"
   ]
  },
  {
   "cell_type": "code",
   "execution_count": 51,
   "metadata": {},
   "outputs": [],
   "source": [
    "perspectrum_with_answers[['text', 'perspectives.text']].to_csv('data/perspectrum_processed.csv')"
   ]
  }
 ],
 "metadata": {
  "kernelspec": {
   "display_name": ".venv",
   "language": "python",
   "name": "python3"
  },
  "language_info": {
   "codemirror_mode": {
    "name": "ipython",
    "version": 3
   },
   "file_extension": ".py",
   "mimetype": "text/x-python",
   "name": "python",
   "nbconvert_exporter": "python",
   "pygments_lexer": "ipython3",
   "version": "3.11.10"
  }
 },
 "nbformat": 4,
 "nbformat_minor": 2
}
