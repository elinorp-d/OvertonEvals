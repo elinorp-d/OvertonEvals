{
 "cells": [
  {
   "cell_type": "markdown",
   "metadata": {},
   "source": [
    "# Combine all the datasets\n",
    "\n",
    "Here we are going to very simply combine all the datasets into one."
   ]
  },
  {
   "cell_type": "code",
   "execution_count": 1,
   "metadata": {},
   "outputs": [],
   "source": [
    "from dotenv import load_dotenv\n",
    "import pandas as pd, numpy as np, os\n",
    "\n",
    "# Load environment variables\n",
    "load_dotenv()\n",
    "DATA_PATH = os.getenv('DATA_PATH')\n",
    "TEMP_PATH = os.getenv('TEMP_PATH')"
   ]
  },
  {
   "cell_type": "markdown",
   "metadata": {},
   "source": [
    "### Habermas"
   ]
  },
  {
   "cell_type": "code",
   "execution_count": 15,
   "metadata": {},
   "outputs": [],
   "source": [
    "habermas = pd.read_csv(DATA_PATH + 'habermas_machine_questions.csv')\n",
    "habermas.rename(columns={'question.text': 'question', 'own_opinion.text': 'perspectives'}, inplace=True)\n",
    "habermas['source'] = 'habermas'\n",
    "habermas = habermas.reset_index()[['question', 'perspectives', 'source']]"
   ]
  },
  {
   "cell_type": "code",
   "execution_count": 16,
   "metadata": {},
   "outputs": [],
   "source": [
    "ValuePrism = pd.read_csv(DATA_PATH + 'ValuePrism_perspectives.csv')\n",
    "ValuePrism.rename(columns={'situation': 'question', 'perspective': 'perspectives'}, inplace=True)\n",
    "ValuePrism['source'] = 'valueprism'\n",
    "ValuePrism = ValuePrism.reset_index()[['question', 'perspectives', 'source']]"
   ]
  },
  {
   "cell_type": "code",
   "execution_count": 26,
   "metadata": {},
   "outputs": [
    {
     "name": "stdout",
     "output_type": "stream",
     "text": [
      "(1000, 3)\n"
     ]
    }
   ],
   "source": [
    "# We're gonna sample ValuePrism for now since it's so big\n",
    "print(ValuePrism.shape)\n",
    "ValuePrism = ValuePrism.sample(1000)"
   ]
  },
  {
   "cell_type": "code",
   "execution_count": 17,
   "metadata": {},
   "outputs": [],
   "source": [
    "perspectrum = pd.read_csv(DATA_PATH + 'perspectrum_processed.csv')\n",
    "perspectrum.rename(columns={'text': 'question', 'perspectives.text': 'perspectives'}, inplace=True)\n",
    "perspectrum['source'] = 'perspectrum'\n",
    "perspectrum = perspectrum.reset_index()[['question', 'perspectives', 'source']]"
   ]
  },
  {
   "cell_type": "code",
   "execution_count": 25,
   "metadata": {},
   "outputs": [
    {
     "name": "stdout",
     "output_type": "stream",
     "text": [
      "(1438, 3) (1000, 3) (907, 3)\n"
     ]
    }
   ],
   "source": [
    "print(habermas.shape, ValuePrism.shape, perspectrum.shape)"
   ]
  },
  {
   "cell_type": "markdown",
   "metadata": {},
   "source": [
    "### Combine and save"
   ]
  },
  {
   "cell_type": "markdown",
   "metadata": {},
   "source": [
    "perspectrum"
   ]
  },
  {
   "cell_type": "code",
   "execution_count": 27,
   "metadata": {},
   "outputs": [],
   "source": [
    "df_all = pd.concat([habermas, ValuePrism, perspectrum])"
   ]
  },
  {
   "cell_type": "code",
   "execution_count": 29,
   "metadata": {},
   "outputs": [],
   "source": [
    "df_all.to_csv(DATA_PATH + 'questions_and_human_perspectives.csv')"
   ]
  },
  {
   "cell_type": "code",
   "execution_count": null,
   "metadata": {},
   "outputs": [],
   "source": []
  }
 ],
 "metadata": {
  "kernelspec": {
   "display_name": ".venv",
   "language": "python",
   "name": "python3"
  },
  "language_info": {
   "codemirror_mode": {
    "name": "ipython",
    "version": 3
   },
   "file_extension": ".py",
   "mimetype": "text/x-python",
   "name": "python",
   "nbconvert_exporter": "python",
   "pygments_lexer": "ipython3",
   "version": "3.11.10"
  }
 },
 "nbformat": 4,
 "nbformat_minor": 2
}
